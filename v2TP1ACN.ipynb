{
 "cells": [
  {
   "cell_type": "code",
   "execution_count": 1,
   "metadata": {},
   "outputs": [
    {
     "data": {
      "text/html": [
       "<div>\n",
       "<style scoped>\n",
       "    .dataframe tbody tr th:only-of-type {\n",
       "        vertical-align: middle;\n",
       "    }\n",
       "\n",
       "    .dataframe tbody tr th {\n",
       "        vertical-align: top;\n",
       "    }\n",
       "\n",
       "    .dataframe thead th {\n",
       "        text-align: right;\n",
       "    }\n",
       "</style>\n",
       "<table border=\"1\" class=\"dataframe\">\n",
       "  <thead>\n",
       "    <tr style=\"text-align: right;\">\n",
       "      <th></th>\n",
       "      <th>dia</th>\n",
       "      <th>regional wind</th>\n",
       "      <th>wind gap norte sur</th>\n",
       "    </tr>\n",
       "  </thead>\n",
       "  <tbody>\n",
       "    <tr>\n",
       "      <th>0</th>\n",
       "      <td>1</td>\n",
       "      <td>8.000000</td>\n",
       "      <td>0.000000</td>\n",
       "    </tr>\n",
       "    <tr>\n",
       "      <th>1</th>\n",
       "      <td>2</td>\n",
       "      <td>8.346296</td>\n",
       "      <td>0.181523</td>\n",
       "    </tr>\n",
       "    <tr>\n",
       "      <th>2</th>\n",
       "      <td>3</td>\n",
       "      <td>10.062316</td>\n",
       "      <td>0.188643</td>\n",
       "    </tr>\n",
       "    <tr>\n",
       "      <th>3</th>\n",
       "      <td>4</td>\n",
       "      <td>10.791337</td>\n",
       "      <td>0.071085</td>\n",
       "    </tr>\n",
       "    <tr>\n",
       "      <th>4</th>\n",
       "      <td>5</td>\n",
       "      <td>10.754093</td>\n",
       "      <td>0.078442</td>\n",
       "    </tr>\n",
       "  </tbody>\n",
       "</table>\n",
       "</div>"
      ],
      "text/plain": [
       "   dia  regional wind  wind gap norte sur\n",
       "0    1       8.000000            0.000000\n",
       "1    2       8.346296            0.181523\n",
       "2    3      10.062316            0.188643\n",
       "3    4      10.791337            0.071085\n",
       "4    5      10.754093            0.078442"
      ]
     },
     "execution_count": 1,
     "metadata": {},
     "output_type": "execute_result"
    }
   ],
   "source": [
    "import numpy as np\n",
    "import pandas as pd\n",
    "from sklearn.linear_model import LinearRegression\n",
    "import math\n",
    "import matplotlib.pyplot as plt\n",
    "\n",
    "# Cargar los datos\n",
    "data = pd.read_csv('Wind_Data.csv')\n",
    "data.head()\n"
   ]
  },
  {
   "cell_type": "code",
   "execution_count": 2,
   "metadata": {},
   "outputs": [
    {
     "data": {
      "text/html": [
       "<div>\n",
       "<style scoped>\n",
       "    .dataframe tbody tr th:only-of-type {\n",
       "        vertical-align: middle;\n",
       "    }\n",
       "\n",
       "    .dataframe tbody tr th {\n",
       "        vertical-align: top;\n",
       "    }\n",
       "\n",
       "    .dataframe thead th {\n",
       "        text-align: right;\n",
       "    }\n",
       "</style>\n",
       "<table border=\"1\" class=\"dataframe\">\n",
       "  <thead>\n",
       "    <tr style=\"text-align: right;\">\n",
       "      <th></th>\n",
       "      <th>dia</th>\n",
       "      <th>regional wind</th>\n",
       "      <th>wind gap norte sur</th>\n",
       "      <th>wind_increase</th>\n",
       "    </tr>\n",
       "  </thead>\n",
       "  <tbody>\n",
       "    <tr>\n",
       "      <th>0</th>\n",
       "      <td>1</td>\n",
       "      <td>8.000000</td>\n",
       "      <td>0.000000</td>\n",
       "      <td>NaN</td>\n",
       "    </tr>\n",
       "    <tr>\n",
       "      <th>1</th>\n",
       "      <td>2</td>\n",
       "      <td>8.346296</td>\n",
       "      <td>0.181523</td>\n",
       "      <td>0.346296</td>\n",
       "    </tr>\n",
       "    <tr>\n",
       "      <th>2</th>\n",
       "      <td>3</td>\n",
       "      <td>10.062316</td>\n",
       "      <td>0.188643</td>\n",
       "      <td>1.716019</td>\n",
       "    </tr>\n",
       "    <tr>\n",
       "      <th>3</th>\n",
       "      <td>4</td>\n",
       "      <td>10.791337</td>\n",
       "      <td>0.071085</td>\n",
       "      <td>0.729021</td>\n",
       "    </tr>\n",
       "    <tr>\n",
       "      <th>4</th>\n",
       "      <td>5</td>\n",
       "      <td>10.754093</td>\n",
       "      <td>0.078442</td>\n",
       "      <td>-0.037244</td>\n",
       "    </tr>\n",
       "  </tbody>\n",
       "</table>\n",
       "</div>"
      ],
      "text/plain": [
       "   dia  regional wind  wind gap norte sur  wind_increase\n",
       "0    1       8.000000            0.000000            NaN\n",
       "1    2       8.346296            0.181523       0.346296\n",
       "2    3      10.062316            0.188643       1.716019\n",
       "3    4      10.791337            0.071085       0.729021\n",
       "4    5      10.754093            0.078442      -0.037244"
      ]
     },
     "execution_count": 2,
     "metadata": {},
     "output_type": "execute_result"
    }
   ],
   "source": [
    "def daily_dif(current_wind, previous_wind):\n",
    "    # Calcular el incremento como la diferencia entre los vientos\n",
    "    return (current_wind - previous_wind)\n",
    "\n",
    "# Calcular incremento diario\n",
    "data['wind_increase'] = daily_dif(data['regional wind'], data['regional wind'].shift(1))\n",
    "data.head()\n"
   ]
  },
  {
   "cell_type": "code",
   "execution_count": 3,
   "metadata": {},
   "outputs": [
    {
     "data": {
      "text/html": [
       "<div>\n",
       "<style scoped>\n",
       "    .dataframe tbody tr th:only-of-type {\n",
       "        vertical-align: middle;\n",
       "    }\n",
       "\n",
       "    .dataframe tbody tr th {\n",
       "        vertical-align: top;\n",
       "    }\n",
       "\n",
       "    .dataframe thead th {\n",
       "        text-align: right;\n",
       "    }\n",
       "</style>\n",
       "<table border=\"1\" class=\"dataframe\">\n",
       "  <thead>\n",
       "    <tr style=\"text-align: right;\">\n",
       "      <th></th>\n",
       "      <th>dia</th>\n",
       "      <th>regional wind</th>\n",
       "      <th>wind gap norte sur</th>\n",
       "      <th>wind_increase</th>\n",
       "      <th>theta</th>\n",
       "    </tr>\n",
       "  </thead>\n",
       "  <tbody>\n",
       "    <tr>\n",
       "      <th>0</th>\n",
       "      <td>1</td>\n",
       "      <td>8.000000</td>\n",
       "      <td>0.000000</td>\n",
       "      <td>NaN</td>\n",
       "      <td>8.000000</td>\n",
       "    </tr>\n",
       "    <tr>\n",
       "      <th>1</th>\n",
       "      <td>2</td>\n",
       "      <td>8.346296</td>\n",
       "      <td>0.181523</td>\n",
       "      <td>0.346296</td>\n",
       "      <td>7.999704</td>\n",
       "    </tr>\n",
       "    <tr>\n",
       "      <th>2</th>\n",
       "      <td>3</td>\n",
       "      <td>10.062316</td>\n",
       "      <td>0.188643</td>\n",
       "      <td>1.716019</td>\n",
       "      <td>7.998815</td>\n",
       "    </tr>\n",
       "    <tr>\n",
       "      <th>3</th>\n",
       "      <td>4</td>\n",
       "      <td>10.791337</td>\n",
       "      <td>0.071085</td>\n",
       "      <td>0.729021</td>\n",
       "      <td>7.997334</td>\n",
       "    </tr>\n",
       "    <tr>\n",
       "      <th>4</th>\n",
       "      <td>5</td>\n",
       "      <td>10.754093</td>\n",
       "      <td>0.078442</td>\n",
       "      <td>-0.037244</td>\n",
       "      <td>7.995261</td>\n",
       "    </tr>\n",
       "  </tbody>\n",
       "</table>\n",
       "</div>"
      ],
      "text/plain": [
       "   dia  regional wind  wind gap norte sur  wind_increase     theta\n",
       "0    1       8.000000            0.000000            NaN  8.000000\n",
       "1    2       8.346296            0.181523       0.346296  7.999704\n",
       "2    3      10.062316            0.188643       1.716019  7.998815\n",
       "3    4      10.791337            0.071085       0.729021  7.997334\n",
       "4    5      10.754093            0.078442      -0.037244  7.995261"
      ]
     },
     "execution_count": 3,
     "metadata": {},
     "output_type": "execute_result"
    }
   ],
   "source": [
    "# Definir delta\n",
    "delta = 1/365\n",
    "\n",
    "# Definir la θ(t)\n",
    "def theta(i):\n",
    "    return 6 + 2 * math.cos(2*math.pi * (i-1)/365)\n",
    "\n",
    "# Calcular θ(t) para cada día\n",
    "data['theta'] = data['dia'].apply(theta)\n",
    "data.head()\n"
   ]
  },
  {
   "cell_type": "code",
   "execution_count": 14,
   "metadata": {},
   "outputs": [
    {
     "name": "stdout",
     "output_type": "stream",
     "text": [
      "κ: 109.04125628331585, Error de κ: 4.294413913397189\n",
      "σ: 16.04457314539312, Error de σ: 0.26560805146180083\n"
     ]
    }
   ],
   "source": [
    "s_i = data['regional wind'].shift(1)\n",
    "theta = data['theta']\n",
    "X = ((theta - s_i) * delta)[1:].values\n",
    "Y = (data['wind_increase'])[1:].values\n",
    "\n",
    "# Modelo de regresión lineal\n",
    "reg = LinearRegression().fit(X.reshape(-1, 1), Y)\n",
    "\n",
    "# Predicciones y error\n",
    "Y_pred = reg.predict(X.reshape(-1, 1))\n",
    "error = Y - Y_pred\n",
    "\n",
    "# Cálculo de kappa y sigma con error de estimación\n",
    "kappa = reg.coef_[0]\n",
    "c = np.sqrt(error.var())\n",
    "sigma = c / np.sqrt(delta)\n",
    "\n",
    "# Error estándar de σ\n",
    "sigma_error = sigma / np.sqrt(len(error))\n",
    "\n",
    "# Error estándar de kappa\n",
    "kappa_error = np.sqrt(np.sum((error - np.mean(error))**2) / (len(error) - 2)) / np.sqrt(np.sum(X**2))\n",
    "\n",
    "print(f\"κ: {kappa}, Error de κ: {kappa_error}\")\n",
    "print(f\"σ: {sigma}, Error de σ: {sigma_error}\")\n",
    "\n"
   ]
  },
  {
   "cell_type": "code",
   "execution_count": 15,
   "metadata": {},
   "outputs": [
    {
     "data": {
      "image/png": "[encoded data removed]",
      "text/plain": [
       "<Figure size 720x432 with 1 Axes>"
      ]
     },
     "metadata": {
      "needs_background": "light"
     },
     "output_type": "display_data"
    }
   ],
   "source": [
    "# función para simular caminos de viento\n",
    "def wind_paths(S_0, kappa, theta, sigma, delta, T):\n",
    "    S = np.full(T, S_0)\n",
    "    for t in range(1, T):\n",
    "        S[t] = S[t-1] + kappa * (theta[t] - S[t-1]) * delta + np.sqrt(delta) * np.random.normal(0,1) * sigma\n",
    "    return S\n",
    "\n",
    "# innit\n",
    "S_0 = data['regional wind'].iloc[0]\n",
    "T = 365 * 10\n",
    "\n",
    "# Simulamos\n",
    "S = wind_paths(S_0, kappa, theta, sigma, delta, T)\n",
    "\n",
    "# Graficamos\n",
    "plt.figure(figsize=(10, 6))\n",
    "plt.plot(S)\n",
    "plt.title('Simulación de caminos del viento regional')\n",
    "plt.xlabel('Día')\n",
    "plt.ylabel('Viento regional')\n",
    "plt.show()\n"
   ]
  },
  {
   "cell_type": "code",
   "execution_count": 18,
   "metadata": {},
   "outputs": [
    {
     "name": "stdout",
     "output_type": "stream",
     "text": [
      "β: 48.37733323194377, Error de β: 3.0057533121947224\n",
      "γ: 10.090719957138331, Error de γ: 0.1670456696712918\n"
     ]
    }
   ],
   "source": [
    "# Creamos 'gap_dif' como la diferencia diaria del gap del viento entre el norte y sur\n",
    "data['gap_dif'] = data['wind gap norte sur'] - data['wind gap norte sur'].shift(1)\n",
    "data.head()\n",
    "\n",
    "# Definimos variables para wind gap\n",
    "Y_gap = (data['gap_dif'])[1:].values\n",
    "d_i = data['wind gap norte sur'].shift(1)\n",
    "X_gap = (d_i * delta)[1:].values\n",
    "\n",
    "# Ajustar el modelo de regresión lineal para el wind gap\n",
    "reg_gap = LinearRegression().fit(X_gap.reshape(-1, 1), Y_gap)\n",
    "\n",
    "# Predecimos y calculamos error\n",
    "Y_pred_gap = reg_gap.predict(X_gap.reshape(-1, 1))\n",
    "error_gap = Y_gap - Y_pred_gap\n",
    "\n",
    "# Cálculo de beta y gamma y su error de estimación\n",
    "beta = -(reg_gap.coef_[0])\n",
    "gamma = np.sqrt(error_gap.var()) / np.sqrt(delta)\n",
    "\n",
    "# Error estándar de gamma\n",
    "gamma_error = gamma / np.sqrt(len(error_gap))\n",
    "\n",
    "# Error estándar de beta\n",
    "beta_error = np.sqrt(np.sum((error_gap - np.mean(error_gap))**2) / (len(error_gap) - 2)) / np.sqrt(np.sum(X_gap**2))\n",
    "\n",
    "print(f\"β: {beta}, Error de β: {beta_error}\")\n",
    "print(f\"γ: {gamma}, Error de γ: {gamma_error}\")"
   ]
  }
 ],
 "metadata": {
  "kernelspec": {
   "display_name": "Python 3",
   "language": "python",
   "name": "python3"
  },
  "language_info": {
   "codemirror_mode": {
    "name": "ipython",
    "version": 3
   },
   "file_extension": ".py",
   "mimetype": "text/x-python",
   "name": "python",
   "nbconvert_exporter": "python",
   "pygments_lexer": "ipython3",
   "version": "3.9.13"
  }
 },
 "nbformat": 4,
 "nbformat_minor": 2
}
